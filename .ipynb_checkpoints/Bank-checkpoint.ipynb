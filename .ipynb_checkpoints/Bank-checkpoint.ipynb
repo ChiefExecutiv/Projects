{
 "cells": [
  {
   "cell_type": "code",
   "execution_count": 5,
   "id": "9ad61cd3-8948-48e4-851a-68b2bf36d78a",
   "metadata": {},
   "outputs": [],
   "source": [
    "import pandas as pd\n",
    "\n",
    "location = 'bank.csv'\n",
    "\n",
    "dataframe = pd.read_csv(location)"
   ]
  },
  {
   "cell_type": "code",
   "execution_count": null,
   "id": "53b66442-751f-43fd-bcae-af5d90b28445",
   "metadata": {},
   "outputs": [],
   "source": [
    "dataframe.head()"
   ]
  }
 ],
 "metadata": {
  "kernelspec": {
   "display_name": "Python 3 (ipykernel)",
   "language": "python",
   "name": "python3"
  },
  "language_info": {
   "codemirror_mode": {
    "name": "ipython",
    "version": 3
   },
   "file_extension": ".py",
   "mimetype": "text/x-python",
   "name": "python",
   "nbconvert_exporter": "python",
   "pygments_lexer": "ipython3",
   "version": "3.11.3"
  }
 },
 "nbformat": 4,
 "nbformat_minor": 5
}
